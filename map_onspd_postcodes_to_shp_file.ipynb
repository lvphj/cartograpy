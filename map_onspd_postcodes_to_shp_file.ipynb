{
 "cells": [
  {
   "cell_type": "markdown",
   "metadata": {},
   "source": [
    "# Code to map postcodes to shp files"
   ]
  },
  {
   "cell_type": "markdown",
   "metadata": {},
   "source": [
    "## May - June 2020"
   ]
  },
  {
   "cell_type": "markdown",
   "metadata": {},
   "source": [
    "#### Postcode definition file (version 2020May) downloaded from UK Data Service https://borders.ukdataservice.ac.uk/pcluts.html\n",
    "\n",
    "##### Downloaded: 13 June 2020 (Previous 19 May 2020)\n",
    "##### Version: 2020may (Previous 2020feb)\n",
    "\n",
    "##### Column names are due to change in May 2020 version."
   ]
  },
  {
   "cell_type": "markdown",
   "metadata": {},
   "source": [
    "## Import libraries"
   ]
  },
  {
   "cell_type": "code",
   "execution_count": null,
   "metadata": {
    "pycharm": {
     "name": "#%%\n"
    }
   },
   "outputs": [],
   "source": [
    "%matplotlib inline"
   ]
  },
  {
   "cell_type": "code",
   "execution_count": null,
   "metadata": {
    "pycharm": {
     "name": "#%%\n"
    }
   },
   "outputs": [],
   "source": [
    "import numpy as np\n",
    "import pandas as pd\n",
    "import epydemiology as epy\n",
    "import geopandas as gpd\n",
    "from pathlib import Path\n",
    "import glob\n",
    "import matplotlib.pyplot as plt\n",
    "import os\n",
    "from shapely.geometry import Point"
   ]
  },
  {
   "cell_type": "markdown",
   "metadata": {},
   "source": [
    "## Deal with postcode data"
   ]
  },
  {
   "cell_type": "markdown",
   "metadata": {},
   "source": [
    "### Load csv file into dataframe"
   ]
  },
  {
   "cell_type": "code",
   "execution_count": null,
   "metadata": {
    "pycharm": {
     "name": "#%%\n"
    },
    "scrolled": true
   },
   "outputs": [],
   "source": [
    "# CSV files don't contain headers. The names of the column headings are stored\n",
    "# in a file called Code-Point_Open_Column_Headers.csv. Retrieve list of columns from file.\n",
    "#phjPathToDoc = './data/postcode/onspd/pcluts_2020feb'\n",
    "#phjFilename = '/ONSPD_FEB_2020_UK.csv'\n",
    "\n",
    "phjPathToDoc = './data/postcode/onspd/pcluts_2020may'\n",
    "phjFilename = '/ONSPD_MAY_2020_UK.csv'\n",
    "\n",
    "a\n",
    "\n",
    "phjPostcodeDF = pd.read_csv(Path('/'.join([phjPathToDoc,phjFilename])))\n",
    "\n",
    "print(phjPostcodeDF.dtypes)\n",
    "print('\\n')\n",
    "print(phjPostcodeDF)"
   ]
  },
  {
   "cell_type": "code",
   "execution_count": null,
   "metadata": {},
   "outputs": [],
   "source": [
    "phjPostcodeDF = phjPostcodeDF[['pcd','pcd2','pcds','ctry','oseast1m','osnrth1m','lat','long']].copy()\n",
    "\n",
    "print(phjPostcodeDF.dtypes)\n",
    "print('\\n')\n",
    "print(phjPostcodeDF)"
   ]
  },
  {
   "cell_type": "markdown",
   "metadata": {},
   "source": [
    "### Convert to geodataframe"
   ]
  },
  {
   "cell_type": "markdown",
   "metadata": {},
   "source": [
    "#### Example (choose one or other method below, either oseast1m/osnrth1m or long/lat)"
   ]
  },
  {
   "cell_type": "markdown",
   "metadata": {},
   "source": [
    "File contains both longitude ('long') and latitude ('lat'), and easting ('oseast1m') and northing ('osnrth1m') columns. The longitude and latitude points use WGS84 (espg 4326) whilst the easting and northing points use OSGB96 projection (espg 27700) for GB postcodes and (presumably) epsg 2157 for points in Northern Ireland (see below). Either of these columns could be used to create a geometry and converted between the two crs systems. As an example, in the following cell the 'long' and 'lat' columns are converted to a point geometry (with epsg = 4326) in a geopandas geodataframe and the crs converted to epsg 27700.\n",
    "\n",
    "\n",
    "CRS used in Ireland\n",
    "\n",
    "EPSG:29901 OSNI 1952 / Irish National Grid. Not used in Republic of Ireland. Replaced in 1975 by TM75 / Irish Grid (CRS code 29903) (see https://epsg.io/29901)\n",
    "\n",
    "EPSG:29902 TM65 / Irish Grid -- Ireland. Not used in Northern Ireland. Replaced by TM75 / Irish Grid (code 29903) in 1975 (see https://epsg.io/29902)\n",
    "\n",
    "EPSG:29903 TM75 / Irish Grid. Replaces both OSNI 1952 / Irish National Grid (code 29901) and TM65 / Irish Grid (code 29902) from 1975. Replaced by IRENET95 / Irish Transverse Mercator (code 2157) from 1/1/2001. (see https://epsg.io/29903)\n",
    "\n",
    "EPSG:2157 IRENET95 / Irish Transverse Mercator Replaces TM75 / Irish Grid (code 29903) from 1/1/2001. (see https://epsg.io/2157)"
   ]
  },
  {
   "cell_type": "markdown",
   "metadata": {},
   "source": [
    "##### Create geodataframe containing easting and northing data only"
   ]
  },
  {
   "cell_type": "code",
   "execution_count": null,
   "metadata": {},
   "outputs": [],
   "source": [
    "phjPostcodeGDF = gpd.GeoDataFrame(phjPostcodeDF.drop(['oseast1m', 'osnrth1m'], axis = 1),\n",
    "                                  crs = {'init': 'epsg:27700'},\n",
    "                                  geometry = [Point(xy) for xy in zip(phjPostcodeDF['oseast1m'],\n",
    "                                                                      phjPostcodeDF['osnrth1m'])])\n",
    "\n",
    "# Newer version of geopandas may use\n",
    "#phjPostcodeGDF = gpd.GeoDataFrame(phjPostcodeDF,\n",
    "#                                  crs={'init': 'epsg:4326'},\n",
    "#                                  geometry=gpd.points_from_xy(phjPostcodeDF['EA'],\n",
    "#                                                              phjPostcodeDF['NO']))\n",
    "\n",
    "print('CRS')\n",
    "print('---')\n",
    "print(phjPostcodeGDF.crs)\n",
    "print('\\n')\n",
    "print('GeoPandas DataFrame with postcode point geometry')\n",
    "print('------------------------------------------------')\n",
    "print(phjPostcodeGDF)"
   ]
  },
  {
   "cell_type": "code",
   "execution_count": null,
   "metadata": {},
   "outputs": [],
   "source": [
    "print(phjPostcodeGDF.dtypes)\n",
    "print('\\n')\n",
    "print(phjPostcodeGDF['ctry'].value_counts())"
   ]
  },
  {
   "cell_type": "code",
   "execution_count": null,
   "metadata": {},
   "outputs": [],
   "source": [
    "# Plot postcode points\n",
    "# --------------------\n",
    "\n",
    "fig, ax = plt.subplots(1,\n",
    "                       figsize = (8,10))\n",
    "\n",
    "ax.set_axis_off()\n",
    "\n",
    "phjPostcodeGDF.plot(ax = ax,\n",
    "                    color = 'red',\n",
    "                    markersize = 10)\n",
    "\n",
    "fig.suptitle('Postcode plot based on converting easting-northing data to epsg 27700')\n",
    "\n",
    "plt.show()"
   ]
  },
  {
   "cell_type": "markdown",
   "metadata": {},
   "source": [
    "##### Create geodataframe containing longitude and latitude data only\n",
    "\n",
    "N.B. this cell replaces phjPostcodeGDF created in previous cell."
   ]
  },
  {
   "cell_type": "code",
   "execution_count": null,
   "metadata": {},
   "outputs": [],
   "source": [
    "# Create a point geometry and drop the original 'long' and 'lat' columns\n",
    "#phjPostcodeGDF = gpd.GeoDataFrame(phjPostcodeDF.drop(['long', 'lat'], axis = 1),\n",
    "#                                  crs = {'init': 'epsg:4326'},\n",
    "#                                  geometry = [Point(xy) for xy in zip(phjPostcodeDF['long'],\n",
    "#                                                                      phjPostcodeDF['lat'])])\n",
    "\n",
    "# Create a point geometry and retain the original 'long' and 'lat' columns\n",
    "phjPostcodeGDF = gpd.GeoDataFrame(phjPostcodeDF,\n",
    "                                  crs = {'init': 'epsg:4326'},\n",
    "                                  geometry = [Point(xy) for xy in zip(phjPostcodeDF['long'],\n",
    "                                                                      phjPostcodeDF['lat'])])\n",
    "\n",
    "\n",
    "\n",
    "# Newer version of geopandas may use\n",
    "#phjPostcodeGDF = gpd.GeoDataFrame(phjPostcodeDF,\n",
    "#                                  crs={'init': 'epsg:4326'},\n",
    "#                                  geometry=gpd.points_from_xy(phjPostcodeDF['EA'],\n",
    "#                                                              phjPostcodeDF['NO']))\n",
    "\n",
    "phjPostcodeGDF = phjPostcodeGDF.to_crs(epsg=27700)\n",
    "\n",
    "print('CRS')\n",
    "print('---')\n",
    "print(phjPostcodeGDF.crs)\n",
    "print('\\n')\n",
    "print('GeoPandas DataFrame with postcode point geometry')\n",
    "print('------------------------------------------------')\n",
    "print(phjPostcodeGDF)"
   ]
  },
  {
   "cell_type": "code",
   "execution_count": null,
   "metadata": {},
   "outputs": [],
   "source": [
    "# Plot postcode points\n",
    "# --------------------\n",
    "\n",
    "fig, ax = plt.subplots(1,\n",
    "                       figsize = (8,10))\n",
    "\n",
    "ax.set_axis_off()\n",
    "\n",
    "phjPostcodeGDF.plot(ax = ax,\n",
    "                    color = 'red',\n",
    "                    markersize = 10)\n",
    "\n",
    "fig.suptitle('Postcode plot based on converting long-lat data to epsg 27700')\n",
    "\n",
    "plt.show()"
   ]
  },
  {
   "cell_type": "markdown",
   "metadata": {},
   "source": [
    "IMPORTANT NOTICE\n",
    "\n",
    "There are 2 geographical variables included in the ONS postcode file, namely 'long' and 'lat', and 'oseast1m' and 'osnrth1m'. It is relatively easy to convert the long/lat data to epsg 27700 projection for plotting on a map as shown in the second map above. However, the easting/northing data cannot but used to plot data directly (even though, on first look, the data appears to be epsg 27700) because the data for postcodes in Northern Ireland use a different co-ordinate system (presumably epsg 2157). The results can be seen in the first map above where postcode points in Northern Ireland are plotted over North Wales and the Irish Sea."
   ]
  },
  {
   "cell_type": "markdown",
   "metadata": {},
   "source": [
    "### Remove postcodes from Northern Ireland (and IoM and Channel Islands)"
   ]
  },
  {
   "cell_type": "markdown",
   "metadata": {},
   "source": [
    "Retain postcodes only from England, Wales and Scotland; exclude postcodes from Northern Ireland, Isle of Man and Channel Islands"
   ]
  },
  {
   "cell_type": "code",
   "execution_count": null,
   "metadata": {},
   "outputs": [],
   "source": [
    "# Read country codes from Country names and codes UK as at 08_12.csv\n",
    "\n",
    "phjCtryDefPath = './data/postcode/onspd/pcluts_2020may/Documents'\n",
    "phjCtryDefFilename = 'Country names and codes UK as at 08_12.csv'\n",
    "\n",
    "phjCtryDefDF = pd.read_csv(Path('/'.join([phjCtryDefPath,phjCtryDefFilename])))\n",
    "\n",
    "print(phjCtryDefDF)"
   ]
  },
  {
   "cell_type": "code",
   "execution_count": null,
   "metadata": {},
   "outputs": [],
   "source": [
    "# Create list of country codes\n",
    "phjCtryCodesList = list(phjCtryDefDF.loc[phjCtryDefDF['CTRY12NM'].isin(['England','Scotland','Wales']),'CTRY12CD'])\n",
    "\n",
    "print('List of country codes')\n",
    "print('---------------------')\n",
    "print(phjCtryCodesList)"
   ]
  },
  {
   "cell_type": "code",
   "execution_count": null,
   "metadata": {},
   "outputs": [],
   "source": [
    "# Retain Eng, Scot and Wal postcodes only\n",
    "phjPostcodeGDF = phjPostcodeGDF[phjPostcodeGDF['ctry'].isin(phjCtryCodesList)].copy()"
   ]
  },
  {
   "cell_type": "code",
   "execution_count": null,
   "metadata": {
    "scrolled": false
   },
   "outputs": [],
   "source": [
    "# Plot postcode points\n",
    "# --------------------\n",
    "\n",
    "fig, ax = plt.subplots(1,\n",
    "                       figsize = (8,10))\n",
    "\n",
    "ax.set_axis_off()\n",
    "\n",
    "phjPostcodeGDF.plot(ax = ax,\n",
    "                    color = 'red',\n",
    "                    markersize = 10)\n",
    "\n",
    "fig.suptitle('GB-only postcode plot based on converting easting-northing data to epsg 27700')\n",
    "\n",
    "plt.show()"
   ]
  },
  {
   "cell_type": "markdown",
   "metadata": {},
   "source": [
    "### Print postcodes where long/lat data is missing"
   ]
  },
  {
   "cell_type": "code",
   "execution_count": null,
   "metadata": {},
   "outputs": [],
   "source": [
    "print('Postcodes with missing long/lat data')\n",
    "print('------------------------------------')\n",
    "print(phjPostcodeGDF.loc[(phjPostcodeGDF['long'].isnull()) |\n",
    "                         (phjPostcodeGDF['lat'].isnull()),:])"
   ]
  },
  {
   "cell_type": "markdown",
   "metadata": {},
   "source": [
    "### Remove unnecessary columns"
   ]
  },
  {
   "cell_type": "code",
   "execution_count": null,
   "metadata": {},
   "outputs": [],
   "source": [
    "phjPostcodeGDF = phjPostcodeGDF[['pcd','geometry']].copy()\n",
    "\n",
    "print(phjPostcodeGDF)"
   ]
  },
  {
   "cell_type": "markdown",
   "metadata": {},
   "source": [
    "## Deal with shape file county boundary definitions"
   ]
  },
  {
   "cell_type": "markdown",
   "metadata": {},
   "source": [
    "##### There are 2 shp files commonly used in the SEDA group that define: i) county boundaries that are used by CPH numbers (more or less); and ii) county boundaries used to display results"
   ]
  },
  {
   "cell_type": "markdown",
   "metadata": {},
   "source": [
    "### i. Open .shp file containing definitions of county boundaries used by CPH numbers\n",
    "\n",
    "Shape file opened in GeoPandas."
   ]
  },
  {
   "cell_type": "code",
   "execution_count": null,
   "metadata": {
    "pycharm": {
     "name": "#%%\n"
    }
   },
   "outputs": [],
   "source": [
    "phjPathToShp = './data/shp/CountyCPH_SPIDA'\n",
    "phjShpFilename = 'CountyCPH_SPIDA.shp'\n",
    "\n",
    "phjCPHCountyShpGDF = gpd.read_file(Path('/'.join([phjPathToShp,phjShpFilename])))\n",
    "\n",
    "print('Shape file defining county boundaries')\n",
    "print('-------------------------------------')\n",
    "print(phjCPHCountyShpGDF)\n",
    "print('\\n')\n",
    "print('CRS of shape file')\n",
    "print('-----------------')\n",
    "print(phjCPHCountyShpGDF.crs)"
   ]
  },
  {
   "cell_type": "markdown",
   "metadata": {},
   "source": [
    "#### Plot county boundaries"
   ]
  },
  {
   "cell_type": "code",
   "execution_count": null,
   "metadata": {
    "pycharm": {
     "name": "#%%\n"
    }
   },
   "outputs": [],
   "source": [
    "phjCPHCountyShpGDF.plot()"
   ]
  },
  {
   "cell_type": "markdown",
   "metadata": {},
   "source": [
    "#### Example of changing the shapefile CRS\n",
    "\n",
    "It is easy to change the CRS of the shape file if required."
   ]
  },
  {
   "cell_type": "code",
   "execution_count": null,
   "metadata": {
    "pycharm": {
     "name": "#%%\n"
    }
   },
   "outputs": [],
   "source": [
    "#phjCPHCountyShpGDF = phjCPHCountyShpGDF.to_crs(epsg=4326)\n",
    "\n",
    "#phjCPHCountyShpGDF.plot()"
   ]
  },
  {
   "cell_type": "markdown",
   "metadata": {},
   "source": [
    "#### Example of plotting individual points on map of county boundaries"
   ]
  },
  {
   "cell_type": "code",
   "execution_count": null,
   "metadata": {},
   "outputs": [],
   "source": [
    "phjExamplePostcodeList = ['CH5 4HE','NP4 5DG','CH647TE','W1A 1AA','KT153NB']"
   ]
  },
  {
   "cell_type": "code",
   "execution_count": null,
   "metadata": {},
   "outputs": [],
   "source": [
    "fig, ax = plt.subplots(1,\n",
    "                       figsize = (16,20))\n",
    "\n",
    "ax = phjCPHCountyShpGDF.plot(ax = ax,\n",
    "                             color = 'white',\n",
    "                             edgecolor = 'black')\n",
    "\n",
    "ax.set_axis_off()\n",
    "\n",
    "phjPostcodeGDF[phjPostcodeGDF['pcd'].isin(phjExamplePostcodeList)].plot(ax = ax,\n",
    "                                                                       color = 'red')\n",
    "\n",
    "plt.show()"
   ]
  },
  {
   "cell_type": "markdown",
   "metadata": {},
   "source": [
    "#### Spatial join postcode geodataframe with county shapefile geodataframe to produce dataframe that links postcode with CPHCounty names"
   ]
  },
  {
   "cell_type": "code",
   "execution_count": null,
   "metadata": {},
   "outputs": [],
   "source": [
    "phjPostcodeCPHCountyGDF = gpd.sjoin(phjPostcodeGDF[['pcd','geometry']],\n",
    "                                    phjCPHCountyShpGDF[['CTYID','CTY_Name','geometry']],\n",
    "                                    op = 'within',\n",
    "                                    how = 'left')\n",
    "\n",
    "# Remove the column entitled 'index_right'\n",
    "phjPostcodeCPHCountyGDF = phjPostcodeCPHCountyGDF[[c for c in phjPostcodeCPHCountyGDF if c not in ['index_right']]].rename(columns = {'CTYID':'CPH_CTYID',\n",
    "                                                                                                                                      'CTY_Name':'CPH_CTY_Name'}).copy()\n",
    "\n",
    "print('Postcode-CPHCounty lookup table')\n",
    "print('-------------------------------')\n",
    "print(phjPostcodeCPHCountyGDF)"
   ]
  },
  {
   "cell_type": "markdown",
   "metadata": {},
   "source": [
    "#### Check example postcodes are in the correct county"
   ]
  },
  {
   "cell_type": "code",
   "execution_count": null,
   "metadata": {},
   "outputs": [],
   "source": [
    "print(phjPostcodeCPHCountyGDF[phjPostcodeCPHCountyGDF['pcd'].isin(phjExamplePostcodeList)])"
   ]
  },
  {
   "cell_type": "markdown",
   "metadata": {},
   "source": [
    "### ii. Open .shp file containing county definitions used to report SIU outputs"
   ]
  },
  {
   "cell_type": "code",
   "execution_count": null,
   "metadata": {},
   "outputs": [],
   "source": [
    "pwd"
   ]
  },
  {
   "cell_type": "code",
   "execution_count": null,
   "metadata": {},
   "outputs": [],
   "source": [
    "phjPathToShp = './data/shp/County2000'\n",
    "phjShpFilename = 'County2000.shp'\n",
    "\n",
    "phjCounty2000ShpGDF = gpd.read_file(Path('/'.join([phjPathToShp,phjShpFilename])))\n",
    "\n",
    "print('Shape file defining county boundaries')\n",
    "print('-------------------------------------')\n",
    "print(phjCounty2000ShpGDF)\n",
    "print('\\n')\n",
    "print('CRS of shape file')\n",
    "print('-----------------')\n",
    "print(phjCounty2000ShpGDF.crs)"
   ]
  },
  {
   "cell_type": "markdown",
   "metadata": {},
   "source": [
    "#### Spatial join postcode geodataframe with county shapefile geodataframe to produce dataframe that links postcode with County2000 names"
   ]
  },
  {
   "cell_type": "code",
   "execution_count": null,
   "metadata": {},
   "outputs": [],
   "source": [
    "phjPostcodeCounty2000GDF = gpd.sjoin(phjPostcodeGDF[['pcd','geometry']],\n",
    "                                     phjCounty2000ShpGDF[['OBJECTID_1','IDENTITY','CORRECT_CO','geometry']],\n",
    "                                     op = 'within',\n",
    "                                     how = 'left')\n",
    "\n",
    "# Remove the column entitled 'index_right'\n",
    "phjPostcodeCounty2000GDF = phjPostcodeCounty2000GDF[[c for c in phjPostcodeCounty2000GDF if c not in ['index_right']]].rename(columns = {'OBJECTID_1':'CTY2000_OBJECTID',\n",
    "                                                                                                                                         'IDENTITY':'CTY2000_IDENTITY',\n",
    "                                                                                                                                         'CORRECT_CO':'CTY2000_CORRECT_CO'}).copy()\n",
    "\n",
    "print('Postcode-County2000 lookup table')\n",
    "print('-------------------------------')\n",
    "print(phjPostcodeCounty2000GDF)"
   ]
  },
  {
   "cell_type": "markdown",
   "metadata": {},
   "source": [
    "## Combine postcode-county dataframes"
   ]
  },
  {
   "cell_type": "markdown",
   "metadata": {},
   "source": [
    "#### In original version, 'geometry' column removed but subsequently decided that needed to be able to plot unmapped values therefore decided to retain 'geometry' column"
   ]
  },
  {
   "cell_type": "code",
   "execution_count": null,
   "metadata": {},
   "outputs": [],
   "source": [
    "#phjPostcodeCountyDF = pd.merge(phjPostcodeCPHCountyGDF[[c for c in phjPostcodeCPHCountyGDF if c not in ['geometry']]],\n",
    "#                               phjPostcodeCounty2000GDF[[c for c in phjPostcodeCounty2000GDF if c not in ['geometry']]],\n",
    "#                               on = 'pcd')\n",
    "\n",
    "phjPostcodeCountyGDF = pd.merge(phjPostcodeCPHCountyGDF,\n",
    "                                phjPostcodeCounty2000GDF[[c for c in phjPostcodeCounty2000GDF if c not in ['geometry']]],\n",
    "                                on = 'pcd')\n",
    "\n",
    "\n",
    "print(phjPostcodeCountyGDF)"
   ]
  },
  {
   "cell_type": "markdown",
   "metadata": {},
   "source": [
    "#### Check example postcodes have the correct county definitions"
   ]
  },
  {
   "cell_type": "code",
   "execution_count": null,
   "metadata": {},
   "outputs": [],
   "source": [
    "print(phjPostcodeCountyGDF[phjPostcodeCountyGDF['pcd'].isin(phjExamplePostcodeList)])"
   ]
  },
  {
   "cell_type": "code",
   "execution_count": null,
   "metadata": {},
   "outputs": [],
   "source": [
    "with pd.option_context('display.max_rows', 100, 'display.max_columns', 10):\n",
    "    print(phjPostcodeCountyGDF['CTY2000_CORRECT_CO'].value_counts(dropna = False))"
   ]
  },
  {
   "cell_type": "markdown",
   "metadata": {},
   "source": [
    "## Postcodes with missing county definitions"
   ]
  },
  {
   "cell_type": "markdown",
   "metadata": {},
   "source": [
    "### County2000 definitions only"
   ]
  },
  {
   "cell_type": "code",
   "execution_count": null,
   "metadata": {},
   "outputs": [],
   "source": [
    "print(phjPostcodeCountyGDF.loc[phjPostcodeCountyGDF['CTY2000_CORRECT_CO'].isnull(),:])"
   ]
  },
  {
   "cell_type": "markdown",
   "metadata": {},
   "source": [
    "### Both CPH County and County2000 definitions"
   ]
  },
  {
   "cell_type": "code",
   "execution_count": null,
   "metadata": {},
   "outputs": [],
   "source": [
    "print(phjPostcodeCountyGDF.loc[(phjPostcodeCountyGDF['CPH_CTY_Name'].isnull()) |\n",
    "                               (phjPostcodeCountyGDF['CTY2000_CORRECT_CO'].isnull()),:])"
   ]
  },
  {
   "cell_type": "markdown",
   "metadata": {},
   "source": [
    "### Add column to indicate with either or both county definitions are null"
   ]
  },
  {
   "cell_type": "code",
   "execution_count": null,
   "metadata": {},
   "outputs": [],
   "source": [
    "phjPostcodeCountyGDF['nullCounty'] = 'neither_null'\n",
    "\n",
    "phjPostcodeCountyGDF.loc[(phjPostcodeCountyGDF['CPH_CTY_Name'].isnull()) &\n",
    "                         (phjPostcodeCountyGDF['CTY2000_CORRECT_CO'].notnull()),'nullCounty'] = 'cph_cty_name_only_null'\n",
    "\n",
    "phjPostcodeCountyGDF.loc[(phjPostcodeCountyGDF['CPH_CTY_Name'].notnull()) &\n",
    "                         (phjPostcodeCountyGDF['CTY2000_CORRECT_CO'].isnull()),'nullCounty'] = 'cty2000_correct_co_only_null'\n",
    "\n",
    "phjPostcodeCountyGDF.loc[(phjPostcodeCountyGDF['CPH_CTY_Name'].isnull()) &\n",
    "                         (phjPostcodeCountyGDF['CTY2000_CORRECT_CO'].isnull()),'nullCounty'] = 'both_null'\n",
    "\n",
    "print('Number of postcodes not mapped to county defintions')\n",
    "print('---------------------------------------------------')\n",
    "print(phjPostcodeCountyGDF['nullCounty'].value_counts())"
   ]
  },
  {
   "cell_type": "markdown",
   "metadata": {},
   "source": [
    "### Print postcodes with missing county"
   ]
  },
  {
   "cell_type": "code",
   "execution_count": null,
   "metadata": {},
   "outputs": [],
   "source": [
    "print('Postcodes with missing CPH county definitions only')\n",
    "print('--------------------------------------------------')\n",
    "print(phjPostcodeCountyGDF.loc[phjPostcodeCountyGDF['nullCounty'].eq('cph_cty_name_only_null'),:])\n",
    "print('\\n')\n",
    "\n",
    "print('Postcodes with missing County2000 definition only')\n",
    "print('-------------------------------------------------')\n",
    "print(phjPostcodeCountyGDF.loc[phjPostcodeCountyGDF['nullCounty'].eq('cty2000_correct_co_only_null'),:])"
   ]
  },
  {
   "cell_type": "markdown",
   "metadata": {},
   "source": [
    "### Plot missing postcodes"
   ]
  },
  {
   "cell_type": "code",
   "execution_count": null,
   "metadata": {},
   "outputs": [],
   "source": [
    "fig, ax = plt.subplots(1,\n",
    "                       figsize = (16,20))\n",
    "\n",
    "ax = phjCPHCountyShpGDF.plot(ax = ax,\n",
    "                             color = 'white',\n",
    "                             edgecolor = 'gray')\n",
    "\n",
    "ax.set_axis_off()\n",
    "\n",
    "phjPostcodeCountyGDF.loc[phjPostcodeCountyGDF['nullCounty'].eq('cty2000_correct_co_only_null'),['pcd','geometry']].plot(ax = ax,\n",
    "                                                                                                                   color = 'red',\n",
    "                                                                                                                       markersize = 20)\n",
    "\n",
    "phjPostcodeCountyGDF.loc[phjPostcodeCountyGDF['nullCounty'].eq('cph_cty_name_only_null'),['pcd','geometry']].plot(ax = ax,\n",
    "                                                                                                             color = 'blue',\n",
    "                                                                                                             markersize = 20)\n",
    "\n",
    "phjPostcodeCountyGDF.loc[phjPostcodeCountyGDF['nullCounty'].eq('both_null'),['pcd','geometry']].plot(ax = ax,\n",
    "                                                                                                color = 'purple',\n",
    "                                                                                                markersize = 20)\n",
    "\n",
    "plt.show()"
   ]
  },
  {
   "cell_type": "markdown",
   "metadata": {},
   "source": [
    "## Write to CSV file"
   ]
  },
  {
   "cell_type": "code",
   "execution_count": null,
   "metadata": {},
   "outputs": [],
   "source": [
    "phjPathToCSV = '.'\n",
    "phjCSVFilename = 'ONSPDPostcodeToShpCounties.csv'\n",
    "\n",
    "phjPostcodeCountyGDF[[c for c in phjPostcodeCountyGDF if c not in ['geometry']]].to_csv(Path('/'.join([phjPathToCSV,phjCSVFilename])),\n",
    "                           index = False)\n",
    "\n",
    "print('Done')"
   ]
  },
  {
   "cell_type": "code",
   "execution_count": null,
   "metadata": {},
   "outputs": [],
   "source": []
  }
 ],
 "metadata": {
  "kernelspec": {
   "display_name": "Python 3",
   "language": "python",
   "name": "python3"
  },
  "language_info": {
   "codemirror_mode": {
    "name": "ipython",
    "version": 3
   },
   "file_extension": ".py",
   "mimetype": "text/x-python",
   "name": "python",
   "nbconvert_exporter": "python",
   "pygments_lexer": "ipython3",
   "version": "3.7.4"
  }
 },
 "nbformat": 4,
 "nbformat_minor": 1
}
